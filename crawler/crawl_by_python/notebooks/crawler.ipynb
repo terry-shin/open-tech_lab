{
 "cells": [
  {
   "cell_type": "code",
   "execution_count": 1,
   "metadata": {},
   "outputs": [
    {
     "name": "stdout",
     "output_type": "stream",
     "text": [
      "chromeドライバー OK\n"
     ]
    }
   ],
   "source": [
    "from selenium import webdriver\n",
    "import time\n",
    "import datetime\n",
    "\n",
    "run_date = datetime.datetime.now().strftime('%Y%m%d%H%M%S')\n",
    "\n",
    "# chromeドライバーを起動する時のオプションを設定\n",
    "options = webdriver.ChromeOptions()\n",
    "\n",
    "options.add_argument(\"--headless\")  # ヘッドレスで起動\n",
    "options.add_argument('--no-sandbox') # 仮想環境下では、sandboxで起動すると失敗するので無効にする\n",
    "options.add_argument('--disable-gpu') # ヘッドレスモードで起動するときに必要\n",
    "options.add_argument('--window-size=1280,1024')  # 画面サイズの指定\n",
    "options.add_argument('--disable-dev-shm-usage')  # メモリファイルでshm利用しない様にする\n",
    "options.add_argument(\"--disable-application-cache\")  # HTML5のApplication Cacheを無効にします。\n",
    "options.add_argument('--no-sandbox') # google-chrome-stableが動くために必要\n",
    "options.add_argument('--hide-scrollbars') # スクロールバーを隠す\n",
    "options.add_argument('--enable-logging') # console.log　保存用\n",
    "options.add_argument('--log-level=0')\n",
    "options.add_argument('--v=99')\n",
    "options.add_argument('--ignore-certificate-errors') # SSLセキュリティ証明書のエラーページを表示しない\n",
    "options.add_argument('--incognito') # シークレット モードincognito.gifで起動\n",
    "\n",
    "# user agent\n",
    "options.add_argument('user-agent=Mozilla/5.0 (Windows NT 6.1) AppleWebKit/537.36 (KHTML, like Gecko) Chrome/86.0.4240.111 Safari/537.36' )\n",
    "\n",
    "# chromeドライバーを起動\n",
    "driver = webdriver.Chrome(options=options)\n",
    "\n",
    "print(\"chromeドライバー OK\")"
   ]
  },
  {
   "cell_type": "code",
   "execution_count": 17,
   "metadata": {},
   "outputs": [
    {
     "name": "stdout",
     "output_type": "stream",
     "text": [
      "Amazon.co.jp : ワイン\n",
      "get screenshot\n",
      "get html\n"
     ]
    }
   ],
   "source": [
    "# キーワードセット\n",
    "keyword = \"ワイン\"\n",
    "\n",
    "# amazonを開く\n",
    "driver.get(\"https://www.amazon.co.jp/s?k={}\".format(keyword))\n",
    "\n",
    "# 画面が表示されるまで待つ\n",
    "time.sleep(3)\n",
    "\n",
    "# ページタイトル取得\n",
    "print(driver.title)\n",
    "\n",
    "#縦と横のサイズを取得してキャプチャを取得する   \n",
    "page_width = driver.execute_script('return document.body.scrollWidth')\n",
    "page_height = driver.execute_script('return document.body.scrollHeight')        \n",
    "driver.set_window_size(page_width, page_height)\n",
    "\n",
    "\n",
    "# スクリーンショットを撮る\n",
    "driver.save_screenshot(\"./output/{}_{}.png\".format(keyword, run_date))\n",
    "print(\"get screenshot\")\n",
    "\n",
    "# html取得\n",
    "html = driver.page_source\n",
    "with open('./output/{}_{}.html'.format(keyword, run_date), 'w', encoding='utf-8') as f:\n",
    "    f.write(html)\n",
    "print(\"get html\")"
   ]
  },
  {
   "cell_type": "code",
   "execution_count": 22,
   "metadata": {},
   "outputs": [
    {
     "name": "stdout",
     "output_type": "stream",
     "text": [
      "===================\n",
      "TOP AD list\n",
      "===================\n",
      "{'B07F2W1FBY': 'コノスル ビシクレタ 人気セパージュ 赤&白 6本飲みくらべセット [ 750ml×6本 ]'}\n",
      "{'B001M3LP7Q': 'コノスル カベルネ・ソーヴィニヨン ビシクレ タ ・レゼルバ [ 赤ワイン ミディ…'}\n",
      "{'B002IJBNX4': 'コノスル ビシクレタ ゲヴュルツトラミネール ヴァラエタル [ 白ワイン 中辛口…'}\n"
     ]
    }
   ],
   "source": [
    "# TOP & BOTTOM 広告枠\n",
    "ad_list = driver.find_elements_by_xpath(\"//span[@data-component-type='s-ads-metrics']\")\n",
    "\n",
    "# ページ上部の広告取得\n",
    "print(\"===================\");\n",
    "print(\"TOP AD list\");\n",
    "print(\"===================\");\n",
    "top_ads = driver.find_elements_by_xpath(\".//div[contains(@class, '_multi-card-creative-desktop_DesktopContainer_content__')]//div[@data-asin]\")\n",
    "if len(top_ads) <= 0:\n",
    "    top_ads = driver.find_elements_by_xpath(\".//div[@data-cel-widget='MultiCardCreativeDesktop']//div[@data-asin]\")\n",
    "\n",
    "if len(top_ads) > 0:\n",
    "    for top_ad in top_ads:\n",
    "        asin = top_ad.get_attribute(\"data-asin\")\n",
    "\n",
    "        span_elems = top_ad.find_elements_by_xpath(\"./div/a/span\")\n",
    "        if len(span_elems) <= 0:\n",
    "            span_elems = top_ad.find_elements_by_xpath(\".//span[@data-click-el='title']\")\n",
    "\n",
    "        product_name = span_elems[0].text if len(span_elems) >= 0 else '商品名なし'\n",
    "\n",
    "        output_json = {asin: product_name}\n",
    "        print(output_json)\n",
    "            "
   ]
  },
  {
   "cell_type": "code",
   "execution_count": 23,
   "metadata": {},
   "outputs": [
    {
     "name": "stdout",
     "output_type": "stream",
     "text": [
      "===================\n",
      "BOTTOM AD list\n",
      "===================\n",
      "{'それぞれの品種の特徴が楽しめるチリワイン\\u3000コノスル「お酒は20歳から」': 'https://aax-fe.amazon-adsystem.com/x/c/QrrwGw5LEb-yISXZPT7pVkQAAAF2jtqFSgcAAAH2AePtkFE/https://www.amazon.co.jp/stores/page/105CB756-8459-48BA-8A39-513D4B2BF7BB?store_ref=SB_AITTW28OKKT0D&pd_rd_w=8wG7D&pf_rd_p=00208ac8-ff11-496b-9c70-44710ac295bb&pd_rd_wg=S5x5i&pf_rd_r=SYPAKK50YNY2PJ9C24TZ&pd_rd_r=6fdb5f25-c1e0-4c1a-8428-16aad8e49539&aaxitk=DAN..T5wdPYsbWF-QIcy7Q&hsa_cr_id=9352636700703&lp_asins=B07F2W1FBY,B001M3LP7Q,B002IJBNX4&lp_mat_key=%E3%83%AF%E3%82%A4%E3%83%B3&lp_query=%E3%83%AF%E3%82%A4%E3%83%B3&lp_slot=desktop-hsa-3psl&ref_=sbx_be_s_3psl_mbd'}\n",
      "{'ワイン専門店・ENOTECA（エノテカ）お酒は20歳から': 'https://aax-fe.amazon-adsystem.com/x/c/QtZgHgM7VT1s4okGXFRipmIAAAF2jtqFSgcAAAH2AUIauzI/https://www.amazon.co.jp/stores/page/9201EDFD-412B-464E-9E98-EA68D9297825?store_ref=SB_AKDD9RDOU7EHT&pd_rd_w=8wG7D&pf_rd_p=00208ac8-ff11-496b-9c70-44710ac295bb&pd_rd_wg=S5x5i&pf_rd_r=SYPAKK50YNY2PJ9C24TZ&pd_rd_r=6fdb5f25-c1e0-4c1a-8428-16aad8e49539&aaxitk=kdxa-XjvLtIPwnVmqfZdtw&hsa_cr_id=4300686250703&lp_asins=B07TCFHMMF,B004G908TO,B07CHQ4MH6&lp_mat_key=%E3%83%AF%E3%82%A4%E3%83%B3&lp_query=%E3%83%AF%E3%82%A4%E3%83%B3&lp_slot=desktop-hsa-3psl&ref_=sbx_be_s_3psl_mbd'}\n"
     ]
    }
   ],
   "source": [
    "print(\"===================\");\n",
    "print(\"BOTTOM AD list\");\n",
    "print(\"===================\");\n",
    "bottom_ads = driver.find_elements_by_xpath(\".//div[@class='threepsl-creative' and @data-index]\")\n",
    "\n",
    "# ページ下部の広告取得\n",
    "if len(bottom_ads) > 0:\n",
    "    for bottom_ad in bottom_ads:\n",
    "        product_name = bottom_ad.find_element_by_xpath(\".//div[@data-headline]/span/span\").text\n",
    "        link_url = bottom_ad.find_element_by_xpath(\".//div/a\").get_attribute(\"href\")\n",
    "        if product_name != \"\":\n",
    "            output_json = {product_name: link_url}\n",
    "            print(output_json)"
   ]
  },
  {
   "cell_type": "code",
   "execution_count": 9,
   "metadata": {},
   "outputs": [
    {
     "name": "stdout",
     "output_type": "stream",
     "text": [
      "=======================\n",
      "GET ADHolder\n",
      "=======================\n",
      "{'B075YRH3LC': 'ワインセット スパークリングワイン、赤ワイン、白ワインのミックス12本セット イタリア フランス 有名ワインセット'}\n",
      "{'B07Y45XDLC': '赤ワイン セット フルボディ ALL金賞受賞 ボルドー赤ワインの飲み比べセット 12本 赤ワインセット 本場フランス赤ワイン特集'}\n",
      "{'B00MXWYRL6': '全て格上AOC 格段に違う味わい フランスボルドー 赤ワイン 飲み比べ 6本セット 750ml×6本'}\n",
      "{'B071HRHYJ8': '全てトリプル金賞 ボルドーワイン6本セット ソムリエ厳選 赤ワイン 750ml×6'}\n",
      "{'B08FF2C372': '【ソムリエ厳選 世界の辛口 白】 シャルドネ 3本セット'}\n",
      "{'B07GYNQP79': 'ルイ・ジャド ボーヌ プルミエ・クリュ オマージュ・オー・クリマ ギフト箱入 瓶 [ 2015 赤ワイン フルボディ フランス 750ml ] [ギフトBox入り]'}\n",
      "{'B002JN6LGI': 'ルイ・ジャド ブルゴーニュ シャルドネ [ 2018 白ワイン 辛口 フランス 750ml ]'}\n",
      "{'B08L7PCXY2': '1本あたり582円税別 厳選の旨安赤ワインだけ 赤ワイン12本セット'}\n",
      "{'B07HMQLB27': '【飲めば納得 ガツンと濃厚な赤ワイン3本セット】サンタ・リタ 赤ワインセット [ 赤ワイン フルボディ チリ 750ml×3本 ]'}\n",
      "{'B08H4XFXCK': '赤ワイン フルボディ セット第101弾 すべてパーカー90点以上 赤ワイン 750ml 6本セット 赤 ワインセット フ'}\n",
      "{'B08FF4PX15': '【ソムリエ厳選 世界の辛口スパークリング】3本セット (スペイン・フランス・イタリア)'}\n",
      "{'B08HN4DYSX': 'イタリアン アッポローニオ 濃厚赤ワインセット 6本 ワイン ワインセット'}\n"
     ]
    }
   ],
   "source": [
    "# プロダクト広告取得\n",
    "print(\"=======================\")\n",
    "print(\"GET ADHolder\")\n",
    "print(\"=======================\")\n",
    "asin_list = driver.find_elements_by_xpath(\".//div[@data-asin and contains(@class, 'AdHolder')]\")\n",
    "if len(asin_list) > 0:\n",
    "    for asin_item in asin_list:     \n",
    "        asin = asin_item.get_attribute(\"data-asin\")\n",
    "        product_name = asin_item.find_element_by_xpath(\".//h2/a/span\").text\n",
    "        if asin != \"\":\n",
    "            output_json = {asin: product_name}\n",
    "            print(output_json)\n",
    "        "
   ]
  },
  {
   "cell_type": "code",
   "execution_count": null,
   "metadata": {},
   "outputs": [],
   "source": []
  }
 ],
 "metadata": {
  "kernelspec": {
   "display_name": "Python 3",
   "language": "python",
   "name": "python3"
  },
  "language_info": {
   "codemirror_mode": {
    "name": "ipython",
    "version": 3
   },
   "file_extension": ".py",
   "mimetype": "text/x-python",
   "name": "python",
   "nbconvert_exporter": "python",
   "pygments_lexer": "ipython3",
   "version": "3.8.6"
  }
 },
 "nbformat": 4,
 "nbformat_minor": 4
}
